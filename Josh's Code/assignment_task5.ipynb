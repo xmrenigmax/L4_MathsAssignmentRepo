{
 "cells": [
  {
   "cell_type": "code",
   "execution_count": null,
   "metadata": {},
   "outputs": [
    {
     "name": "stdout",
     "output_type": "stream",
     "text": [
      "Requirement already satisfied: multiset in c:\\users\\riley\\appdata\\local\\programs\\python\\python312\\lib\\site-packages (3.2.0)\n",
      "Note: you may need to restart the kernel to use updated packages.\n"
     ]
    }
   ],
   "source": [
    "import math\n",
    "import numpy as np\n",
    "import matplotlib as mpl\n",
    "import matplotlib.pyplot as plt\n",
    "from multiset import Multiset\n",
    "\n"
   ]
  },
  {
   "cell_type": "markdown",
   "metadata": {},
   "source": [
    "**5.1) Answer to the question**$$(13)(q \\oplus p) \\oplus r \\leftrightarrow (\\neg q \\rightarrow \\neg r) where:\\\\ p = S \\cap {a, 0} \\equiv {a}\\\\ q = {-\\infty} \\subset\\\\ r= S \\cup {0} \\subset S $$"
   ]
  },
  {
   "cell_type": "code",
   "execution_count": 10,
   "metadata": {},
   "outputs": [
    {
     "name": "stdout",
     "output_type": "stream",
     "text": [
      "\n",
      "The player needs to choose the right hand lift as a = 0, boolean False.\n",
      "On the left hand of the equivalence we have inside the bracket the proposition (p XOR q), as both are false the bracket is false. The proposition (p XOR q) XOR r is false, therefore the left hand side propositon is false.\n",
      "As a is a constant and does not effect the logical result we resolve equivalent propositon first and multiply a by the outcome\n",
      "\n",
      "The right hand side of the equivalence is true, the negation of q is true and the negation of r is true. Since it is a logical implication, the proposition is true. \n",
      "\n",
      "The left hand side is not equivalent to the right hand side, therefore the equivalent proposition is false.\n",
      "\n",
      "Multiplying a by the final result will determine the answer.\n",
      "The final answer a = 0 or boolean False.\n",
      "Therefore choose the right hand side.\n",
      "\n"
     ]
    }
   ],
   "source": [
    "\n",
    "answer = '''\n",
    "The player needs to choose the right hand lift as a = 0, boolean False.\n",
    "On the left hand of the equivalence we have inside the bracket the proposition (p XOR q), as both are false the bracket is false. The proposition (p XOR q) XOR r is false, therefore the left hand side propositon is false.\n",
    "As a is a constant and does not effect the logical result we resolve equivalent propositon first and multiply a by the outcome\n",
    "\n",
    "The right hand side of the equivalence is true, the negation of q is true and the negation of r is true. Since it is a logical implication, the proposition is true. \n",
    "\n",
    "The left hand side is not equivalent to the right hand side, therefore the equivalent proposition is false.\n",
    "\n",
    "Multiplying a by the final result will determine the answer.\n",
    "The final answer a = 0 or boolean False.\n",
    "Therefore choose the right hand side.\n",
    "'''\n",
    "\n",
    "print(answer)"
   ]
  },
  {
   "cell_type": "markdown",
   "metadata": {},
   "source": [
    "**5.2) Element 1,  Permutations:** $$ P(n, r) = \\frac{n!}{(n - r)!} $$"
   ]
  },
  {
   "cell_type": "code",
   "execution_count": 11,
   "metadata": {},
   "outputs": [
    {
     "name": "stdout",
     "output_type": "stream",
     "text": [
      "\n",
      "The notation P(a, 1) represents the pemuatations of the set, a is equal to the number of elements and 1 the group size to choose from.\n",
      "A permutation is the order of elements from a set. The elements can be repeated as long as the order of elements is unique.\n",
      "\n",
      "The group size is 1, meaning only one element can be chosen from total a, per pemutation. The order cannot be repeated.\n",
      "\n",
      "Therefore there are 13 permutations.\n",
      "\n",
      "Multiset currently defined as s = {13}\n"
     ]
    }
   ],
   "source": [
    "explantion ='''\n",
    "The notation P(a, 1) represents the pemuatations of the set, a is equal to the number of elements and 1 the group size to choose from.\n",
    "A permutation is the order of elements from a set. The elements can be repeated as long as the order of elements is unique.\n",
    "\n",
    "The group size is 1, meaning only one element can be chosen from total a, per pemutation. The order cannot be repeated.\n",
    "'''\n",
    "print(explantion)\n",
    "a = 13\n",
    "# Calculate answer using the math library perm() function, passing variable a.\n",
    "perm = math.perm(13, 1)\n",
    "\n",
    "print(f'Therefore there are {perm} permutations.')\n",
    "\n",
    "#Redefine multiset s.\n",
    "set = np.array([13])\n",
    "s = Multiset(set)\n",
    "print(f'\\nMultiset currently defined as s = {s}')"
   ]
  },
  {
   "cell_type": "markdown",
   "metadata": {},
   "source": [
    "**5.2) Element 2,  Combinations:** $$ \\binom{n}{r} = \\frac{n!}{r!(n - r)!} $$"
   ]
  },
  {
   "cell_type": "code",
   "execution_count": 12,
   "metadata": {},
   "outputs": [
    {
     "name": "stdout",
     "output_type": "stream",
     "text": [
      "\n",
      "The notation (a, 1) represents the combinations of the set, a is equal to number of elements and 1 the group size to choose from\n",
      "Combinations are similar to permutations but an important distiction is the selection of an element is unique. Meaning once an element has been chosen it cannot be chosen again. \n",
      "(A, B, C) <=> (A, C, B), these combiantions are equivalent and neither is unique.\n",
      "\n",
      "The group size is 1, meaning only one element can be chosen once from total a. Once the element has been chosen it cannot be selected again.\n",
      "\n",
      "Therefore there are 13 combinations.\n",
      "\n",
      "Multiset currently defined as s = {13, 13}\n"
     ]
    }
   ],
   "source": [
    "explantion = '''\n",
    "The notation (a, 1) represents the combinations of the set, a is equal to number of elements and 1 the group size to choose from\n",
    "Combinations are similar to permutations but an important distiction is the selection of an element is unique. Meaning once an element has been chosen it cannot be chosen again. \n",
    "(A, B, C) <=> (A, C, B), these combiantions are equivalent and neither is unique.\n",
    "\n",
    "The group size is 1, meaning only one element can be chosen once from total a. Once the element has been chosen it cannot be selected again.\n",
    "'''\n",
    "print(explantion)\n",
    "a = 13\n",
    "# We can check this answer using the math library comb() function, passing variable a.\n",
    "comb = math.comb(a, 1)\n",
    "print(f'Therefore there are {comb} combinations.')\n",
    "\n",
    "\n",
    "# As s is a multiset and can contain repeated vaues, the set is currently defined as ...\n",
    "set = np.array([13, 13])\n",
    "s = Multiset(set)\n",
    "print(f'\\nMultiset currently defined as s = {s}')"
   ]
  },
  {
   "cell_type": "markdown",
   "metadata": {},
   "source": [
    "**5.2) Element 3,  Limit:**\n",
    "\n",
    "$$\n",
    "\\lim_{x \\to 0} -\\frac{a!}{x}\n",
    "$$\n"
   ]
  },
  {
   "cell_type": "code",
   "execution_count": 13,
   "metadata": {},
   "outputs": [
    {
     "name": "stdout",
     "output_type": "stream",
     "text": [
      "\n",
      "f(x) = -13!/x\n",
      "The limit of f(x) as x approches 0, may depend on the direction of approach. \n",
      "If we approach from the negative direction, we get a postive y value, as two minus multiplied make a postitive, as the x value approachs 0 the y value increases and tends towards positive infinity.\n",
      "If we approach from the positive direction, we get a negative y value, as positve and minus multiplied make a negative, as the x value approaches 0 the y value decreases and tends towards negative infinity.\n",
      "\n",
      "As there are no restrictions on the directon as x approaches to 0, the answer is both positive and negative infinity which is not possible. Unless a direction is specified in the question, the answer cannot be expressed.\n",
      "\n",
      "Therefore the answer is undefined and Not-a-Number(NaN).\n",
      "We can see this behaviour graphically. y value tends towards postive and negative infintiy, depending on direction as x approaches 0. With a vertical asymptote at x = 0.\n",
      "\n",
      "\n"
     ]
    },
    {
     "data": {
      "image/png": "[encoded data removed]",
      "text/plain": [
       "<Figure size 600x600 with 1 Axes>"
      ]
     },
     "metadata": {},
     "output_type": "display_data"
    },
    {
     "name": "stdout",
     "output_type": "stream",
     "text": [
      "\n",
      "Multiset currently defined as s = {13.0, 13.0, nan}\n"
     ]
    }
   ],
   "source": [
    "explanation ='''\n",
    "f(x) = -13!/x\n",
    "The limit of f(x) as x approches 0, may depend on the direction of approach. \n",
    "If we approach from the negative direction, we get a postive y value, as two minus multiplied make a postitive, as the x value approachs 0 the y value increases and tends towards positive infinity.\n",
    "If we approach from the positive direction, we get a negative y value, as positve and minus multiplied make a negative, as the x value approaches 0 the y value decreases and tends towards negative infinity.\n",
    "\n",
    "As there are no restrictions on the directon as x approaches to 0, the answer is both positive and negative infinity which is not possible. Unless a direction is specified in the question, the answer cannot be expressed.\n",
    "\n",
    "Therefore the answer is undefined and Not-a-Number(NaN).\n",
    "We can see this behaviour graphically. y value tends towards postive and negative infintiy, depending on direction as x approaches 0. With a vertical asymptote at x = 0.\n",
    "\n",
    "'''\n",
    "print(explanation)\n",
    "\n",
    "# Initialize numerator and denominator in x,y variable.\n",
    "a = 13\n",
    "x = np.linspace(-10000, 10000, 100000)\n",
    "y_num = math.factorial(a)\n",
    "y_den = x\n",
    "#Intialize y, preventing division of 0.\n",
    "y = np.where(x != 0, -(y_num / y_den), np.nan)\n",
    "\n",
    "#Define figure size.Plot graph inputing x,y. \n",
    "mpl.rcParams['font.size']=14\n",
    "fig = plt.figure(figsize=(6, 6))\n",
    "\n",
    "#Plot graph inputing x,y and asymptote\n",
    "plt.plot(x, y, 'r--', label=r'$f(x) = \\frac{13!}{x}$')\n",
    "plt.axvline(0, color='blue', linestyle='--', linewidth=1, label='Asymptote at $x = 0$')\n",
    "\n",
    "plt.xlim(-10000, 10000)\n",
    "\n",
    "#Label and define graph.\n",
    "plt.legend(loc='upper right', fontsize=10)\n",
    "plt.xlabel('x')\n",
    "plt.ylabel('y (logscale)', rotation= 0)\n",
    "plt.grid()\n",
    "plt.axhline(c='black', linewidth=1)\n",
    "plt.axvline(c='blue', linestyle='--', linewidth=1)\n",
    "plt.yscale('symlog') \n",
    "plt.yticks([1e10, 1e8, 1e6, 1e4, 1e2, 0, -1e2, -1e4, - 1e6, - 1e8, -1e10 ])\n",
    "plt.show()\n",
    "\n",
    "\n",
    "\n",
    "set = np.array([13, 13, np.nan])\n",
    "\n",
    "\n",
    "s = Multiset(set)\n",
    "print(f'\\nMultiset currently defined as s = {s}')"
   ]
  },
  {
   "cell_type": "markdown",
   "metadata": {},
   "source": [
    "**5.2) Element 4 is limit from task 3 and  equals 0, therefore: s = {13, 13, NaN, 0}**"
   ]
  },
  {
   "cell_type": "markdown",
   "metadata": {},
   "source": [
    "**5.2) Boolean logic proposition**  $$(13)(q \\oplus p) \\oplus r \\leftrightarrow (\\neg q \\rightarrow \\neg r) where:\\\\ p = S \\cap {a, 0} \\equiv {a}\\\\ q = {-\\infty} \\subset\\\\ r= S \\cup {0} \\subset S $$"
   ]
  },
  {
   "cell_type": "code",
   "execution_count": 14,
   "metadata": {},
   "outputs": [
    {
     "name": "stdout",
     "output_type": "stream",
     "text": [
      "s = {13, 13, nan, 0}\n",
      "p is equal to False , q is equal to False and r is equal to False\n",
      "\n",
      "So far we have defined the set, we have also defined p as False, since the set of intersection is equal to {a, 0} and is not equivilant to {a}.\n",
      "We have defined q as False as negative infinty is not a subset of s. \n",
      "We have also defined r as False as the multiset s U {0} is  {13, 13, NaN, 0, 0} and s is not a subset.\n",
      "\n",
      "\n",
      "Starting with the left hand side (lhs) and beginning inside the bracket. We have the proposition p XOR q, as both are false the propostion is false. Then the result of the bracket(False) XOR r, since\n",
      "r is false the proposition is false. a is a constant and we will resolve all propositional statements before finally resolving boolean value with a.\n",
      "\n",
      "Value for left hand side is equal to False .\n",
      "\n",
      "Continuing with the right hand side (rhs), the implication of not q and not r. Since the negation of q is True, the second statement needs to be True for the implication to be true.\n",
      "The negation of r is true therefore the implication is True so the rhs is True.\n",
      "\n",
      "\n",
      "The answer to the logical impliction is  True therefore the rhs is equal to True\n",
      "\n",
      "Final statement: the lhs is false, the right hand side is true. Since they are not equivalent the proposition is false.\n",
      "a multiplied by False = 0, which is equal to Boolean False. \n",
      "\n",
      "\n",
      "The answer to the equivalent propostion is False\n",
      "\n",
      "In python a boolean True is equivalent to 1 and boolean False is equivalent to 0\n",
      "a is equal to 0 which is equal to boolean False\n",
      "\n",
      "Choose the right hand lift.\n"
     ]
    }
   ],
   "source": [
    "a = 13\n",
    "set = [13, 13, np.nan, 0]\n",
    "s = Multiset(set)\n",
    "\n",
    "# The final defined multiset s = {13, 13, NaN, 0}\n",
    "print('s =', s)\n",
    "\n",
    "\n",
    "# As there is no python function for implies, we need to code a function to carry out and implied logical operation.\n",
    "def implies(a, b):\n",
    "\n",
    "    if a and not b:\n",
    "        return False\n",
    "    else:\n",
    "        return True\n",
    "\n",
    "# Define p, q, r from logical problem as boolean value.\n",
    "\n",
    "p = s.intersection({a, 0}) == {a}\n",
    "q = {-math.inf}.issubset(s)\n",
    "r = (s + {0}).issubset(s)\n",
    "\n",
    "# Output boolean values of p, q, r.\n",
    "print('p is equal to', p, ', q is equal to', q,'and r is equal to', r,)\n",
    "\n",
    "\n",
    "ex1 ='''\n",
    "So far we have defined the set, we have also defined p as False, since the set of intersection is equal to {a, 0} and is not equivilant to {a}.\n",
    "We have defined q as False as negative infinty is not a subset of s. \n",
    "We have also defined r as False as the multiset s U {0} is  {13, 13, NaN, 0, 0} and s is not a subset.\n",
    "\n",
    "\n",
    "Starting with the left hand side (lhs) and beginning inside the bracket. We have the proposition p XOR q, as both are false the propostion is false. Then the result of the bracket(False) XOR r, since\n",
    "r is false the proposition is false. a is a constant and we will resolve all propositional statements before finally resolving boolean value with a.\n",
    "'''\n",
    "print(ex1)\n",
    "# Output lhs to show True answer.\n",
    "lhs = (p^q)^(r)\n",
    "print('Value for left hand side is equal to', lhs,'.')\n",
    "\n",
    "ex2 ='''\n",
    "Continuing with the right hand side (rhs), the implication of not q and not r. Since the negation of q is True, the second statement needs to be True for the implication to be true.\n",
    "The negation of r is true therefore the implication is True so the rhs is True.\n",
    "'''\n",
    "print(ex2)\n",
    "# Output rhs to show boolean value is false.\n",
    "rhs = print('\\nThe answer to the logical impliction is ',(implies(not q, not r)), 'therefore the rhs is equal to', (implies(not q, not r)))\n",
    "\n",
    "ex3 = '''\n",
    "Final statement: the lhs is false, the right hand side is true. Since they are not equivalent the proposition is false.\n",
    "a multiplied by False = 0, which is equal to Boolean False. \n",
    "'''\n",
    "print(ex3)\n",
    "#Out put result of equivalent propostion\n",
    "print('\\nThe answer to the equivalent propostion is', lhs == rhs)\n",
    "\n",
    "\n",
    "#Show that True in python is equivalent to integer 1 and the identity element...\n",
    "true = 1*True\n",
    "false = 1*False\n",
    "print(f'\\nIn python a boolean True is equivalent to {true} and boolean False is equivalent to {false}')\n",
    "\n",
    "# Output a value and its boolean value.\n",
    "print('a is equal to', a*(lhs == rhs), 'which is equal to boolean', lhs == rhs)\n",
    "\n",
    "#Show result for entire proposition \n",
    "if a*(p^q)^r == implies(not q, not r):\n",
    "    print('Choose the left hand lift.')\n",
    "\n",
    "else:\n",
    "    print('\\nChoose the right hand lift.')\n"
   ]
  }
 ],
 "metadata": {
  "kernelspec": {
   "display_name": "Python 3",
   "language": "python",
   "name": "python3"
  },
  "language_info": {
   "codemirror_mode": {
    "name": "ipython",
    "version": 3
   },
   "file_extension": ".py",
   "mimetype": "text/x-python",
   "name": "python",
   "nbconvert_exporter": "python",
   "pygments_lexer": "ipython3",
   "version": "3.12.6"
  }
 },
 "nbformat": 4,
 "nbformat_minor": 2
}
